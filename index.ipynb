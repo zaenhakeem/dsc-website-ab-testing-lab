{
 "cells": [
  {
   "cell_type": "markdown",
   "metadata": {},
   "source": [
    "# Website A/B Testing - Lab\n",
    "\n",
    "## Introduction\n",
    "\n",
    "In this lab, you'll get another chance to practice your skills at conducting a full A/B test analysis. It will also be a chance to practice your data exploration and processing skills! The scenario you'll be investigating is data collected from the homepage of a music app page for audacity.\n",
    "\n",
    "## Objectives\n",
    "\n",
    "You will be able to:\n",
    "* Analyze the data from a website A/B test to draw relevant conclusions\n",
    "* Explore and analyze web action data"
   ]
  },
  {
   "cell_type": "markdown",
   "metadata": {},
   "source": [
    "## Exploratory Analysis\n",
    "\n",
    "Start by loading in the dataset stored in the file 'homepage_actions.csv'. Then conduct an exploratory analysis to get familiar with the data."
   ]
  },
  {
   "cell_type": "markdown",
   "metadata": {},
   "source": [
    "> Hints:\n",
    "    * Start investigating the id column:\n",
    "        * How many viewers also clicked?\n",
    "        * Are there any anomalies with the data; did anyone click who didn't view?\n",
    "        * Is there any overlap between the control and experiment groups? \n",
    "            * If so, how do you plan to account for this in your experimental design?"
   ]
  },
  {
   "cell_type": "code",
   "execution_count": 1,
   "metadata": {},
   "outputs": [
    {
     "name": "stdout",
     "output_type": "stream",
     "text": [
      "Number of unique viewers: 6328\n"
     ]
    }
   ],
   "source": [
    "#Your code here\n",
    "import pandas as pd\n",
    "data = pd.read_csv('homepage_actions.csv')\n",
    "# Check unique IDs\n",
    "unique_ids = data['id'].nunique()\n",
    "print(f\"Number of unique viewers: {unique_ids}\")\n"
   ]
  },
  {
   "cell_type": "code",
   "execution_count": 2,
   "metadata": {},
   "outputs": [
    {
     "name": "stdout",
     "output_type": "stream",
     "text": [
      "Number of viewers who also clicked: 1860\n"
     ]
    }
   ],
   "source": [
    "# Get IDs of users who viewed\n",
    "viewed_ids = data[data['action'] == 'view']['id'].unique()\n",
    "\n",
    "# Get IDs of users who clicked\n",
    "clicked_ids = data[data['action'] == 'click']['id'].unique()\n",
    "\n",
    "# Find how many users who viewed also clicked\n",
    "viewers_who_clicked = len(set(viewed_ids).intersection(set(clicked_ids)))\n",
    "print(f\"Number of viewers who also clicked: {viewers_who_clicked}\")\n"
   ]
  },
  {
   "cell_type": "code",
   "execution_count": 3,
   "metadata": {},
   "outputs": [
    {
     "name": "stdout",
     "output_type": "stream",
     "text": [
      "Number of users who clicked but didn't view: 0\n"
     ]
    }
   ],
   "source": [
    "# Find IDs of users who clicked but did not view\n",
    "clicked_without_viewing = set(clicked_ids) - set(viewed_ids)\n",
    "print(f\"Number of users who clicked but didn't view: {len(clicked_without_viewing)}\")\n"
   ]
  },
  {
   "cell_type": "code",
   "execution_count": 4,
   "metadata": {},
   "outputs": [
    {
     "name": "stdout",
     "output_type": "stream",
     "text": [
      "Number of overlapping IDs between control and experiment groups: 0\n"
     ]
    }
   ],
   "source": [
    "# Get IDs for control and experiment groups\n",
    "control_ids = data[data['group'] == 'control']['id'].unique()\n",
    "experiment_ids = data[data['group'] == 'experiment']['id'].unique()\n",
    "\n",
    "# Check for overlap\n",
    "overlap_ids = set(control_ids).intersection(set(experiment_ids))\n",
    "print(f\"Number of overlapping IDs between control and experiment groups: {len(overlap_ids)}\")\n"
   ]
  },
  {
   "cell_type": "code",
   "execution_count": null,
   "metadata": {},
   "outputs": [],
   "source": []
  },
  {
   "cell_type": "markdown",
   "metadata": {},
   "source": [
    "## Conduct a Statistical Test\n",
    "\n",
    "Conduct a statistical test to determine whether the experimental homepage was more effective than that of the control group."
   ]
  },
  {
   "cell_type": "code",
   "execution_count": 5,
   "metadata": {},
   "outputs": [
    {
     "ename": "NameError",
     "evalue": "name 'df' is not defined",
     "output_type": "error",
     "traceback": [
      "\u001b[1;31m---------------------------------------------------------------------------\u001b[0m",
      "\u001b[1;31mNameError\u001b[0m                                 Traceback (most recent call last)",
      "\u001b[1;32m<ipython-input-5-a732b916efdd>\u001b[0m in \u001b[0;36m<module>\u001b[1;34m\u001b[0m\n\u001b[0;32m      4\u001b[0m \u001b[1;33m\u001b[0m\u001b[0m\n\u001b[0;32m      5\u001b[0m \u001b[1;31m# Get the control and experiment group data\u001b[0m\u001b[1;33m\u001b[0m\u001b[1;33m\u001b[0m\u001b[1;33m\u001b[0m\u001b[0m\n\u001b[1;32m----> 6\u001b[1;33m \u001b[0mcontrol_group\u001b[0m \u001b[1;33m=\u001b[0m \u001b[0mdf\u001b[0m\u001b[1;33m[\u001b[0m\u001b[0mdf\u001b[0m\u001b[1;33m[\u001b[0m\u001b[1;34m'group'\u001b[0m\u001b[1;33m]\u001b[0m \u001b[1;33m==\u001b[0m \u001b[1;34m'control'\u001b[0m\u001b[1;33m]\u001b[0m\u001b[1;33m\u001b[0m\u001b[1;33m\u001b[0m\u001b[0m\n\u001b[0m\u001b[0;32m      7\u001b[0m \u001b[0mexperiment_group\u001b[0m \u001b[1;33m=\u001b[0m \u001b[0mdf\u001b[0m\u001b[1;33m[\u001b[0m\u001b[0mdf\u001b[0m\u001b[1;33m[\u001b[0m\u001b[1;34m'group'\u001b[0m\u001b[1;33m]\u001b[0m \u001b[1;33m==\u001b[0m \u001b[1;34m'experiment'\u001b[0m\u001b[1;33m]\u001b[0m\u001b[1;33m\u001b[0m\u001b[1;33m\u001b[0m\u001b[0m\n\u001b[0;32m      8\u001b[0m \u001b[1;33m\u001b[0m\u001b[0m\n",
      "\u001b[1;31mNameError\u001b[0m: name 'df' is not defined"
     ]
    }
   ],
   "source": [
    "#Your code here\n",
    "import pandas as pd\n",
    "from statsmodels.stats.proportion import proportions_ztest\n",
    "\n",
    "# Get the control and experiment group data\n",
    "control_group = df[df['group'] == 'control']\n",
    "experiment_group = df[df['group'] == 'experiment']\n",
    "\n",
    "# Get the number of clicks and views for both groups\n",
    "control_clicks = control_group[control_group['action'] == 'click'].shape[0]\n",
    "control_views = control_group[control_group['action'] == 'view'].shape[0]\n",
    "\n",
    "experiment_clicks = experiment_group[experiment_group['action'] == 'click'].shape[0]\n",
    "experiment_views = experiment_group[experiment_group['action'] == 'view'].shape[0]\n",
    "\n",
    "# Perform the z-test\n",
    "counts = [control_clicks, experiment_clicks]  # Number of clicks in each group\n",
    "nobs = [control_views, experiment_views]  # Number of views in each group\n",
    "\n",
    "z_stat, p_value = proportions_ztest(counts, nobs)\n",
    "print(f\"Z-statistic: {z_stat:.4f}, P-value: {p_value:.4f}\")\n",
    "\n",
    "# # Interpretation\n",
    "# alpha = 0.05\n",
    "# if p_value < alpha:\n",
    "#     print(\"Reject the null hypothesis: The experimental homepage is more effective.\")\n",
    "# else:\n",
    "#     print(\"Fail to reject the null hypothesis: No significant difference between control and experimental homepage.\")\n"
   ]
  },
  {
   "cell_type": "markdown",
   "metadata": {},
   "source": [
    "## Verifying Results\n",
    "\n",
    "One sensible formulation of the data to answer the hypothesis test above would be to create a binary variable representing each individual in the experiment and control group. This binary variable would represent whether or not that individual clicked on the homepage; 1 for they did and 0 if they did not. \n",
    "\n",
    "The variance for the number of successes in a sample of a binomial variable with n observations is given by:\n",
    "\n",
    "## $n\\bullet p (1-p)$\n",
    "\n",
    "Given this, perform 3 steps to verify the results of your statistical test:\n",
    "1. Calculate the expected number of clicks for the experiment group, if it had the same click-through rate as that of the control group. \n",
    "2. Calculate the number of standard deviations that the actual number of clicks was from this estimate. \n",
    "3. Finally, calculate a p-value using the normal distribution based on this z-score."
   ]
  },
  {
   "cell_type": "markdown",
   "metadata": {},
   "source": [
    "### Step 1:\n",
    "Calculate the expected number of clicks for the experiment group, if it had the same click-through rate as that of the control group. "
   ]
  },
  {
   "cell_type": "code",
   "execution_count": null,
   "metadata": {},
   "outputs": [],
   "source": [
    "#Your code here\n",
    "\n",
    "# Create a new binary column 'clicked', where 'click' is 1 and 'view' is 0\n",
    "data['clicked'] = data['action'].apply(lambda x: 1 if x == 'click' else 0)\n",
    "\n",
    "# Separate control and experiment groups\n",
    "control_group = data[data['group'] == 'control']\n",
    "experiment_group = data[data['group'] == 'experiment']\n",
    "\n",
    "# Calculate the click-through rate for the control group\n",
    "control_click_rate = control_group['clicked'].mean()\n",
    "\n",
    "# Calculate the number of visitors in the experimental group\n",
    "n_experiment = experiment_group.shape[0]\n",
    "\n",
    "# Calculate the expected number of clicks in the experiment group\n",
    "expected_clicks_experiment = control_click_rate * n_experiment\n",
    "\n",
    "print(f\"Expected clicks in experiment group: {expected_clicks_experiment}\")\n",
    "\n"
   ]
  },
  {
   "cell_type": "markdown",
   "metadata": {},
   "source": [
    "### Step 2:\n",
    "Calculate the number of standard deviations that the actual number of clicks was from this estimate."
   ]
  },
  {
   "cell_type": "code",
   "execution_count": null,
   "metadata": {},
   "outputs": [],
   "source": [
    "#Your code here\n",
    "# Calculate the actual number of clicks in the experiment group\n",
    "actual_clicks_experiment = experiment_group['clicked'].sum()\n",
    "\n",
    "# Step 4: Calculate the variance and standard deviation for the experiment group\n",
    "variance_experiment = n_experiment * control_click_rate * (1 - control_click_rate)\n",
    "std_dev_experiment = variance_experiment ** 0.5  # Square root of variance to get standard deviation\n",
    "\n",
    "# Step 5: Calculate the Z-score (number of standard deviations)\n",
    "z_score = (actual_clicks_experiment - expected_clicks_experiment) / std_dev_experiment\n",
    "\n",
    "print(f\"Expected clicks in experiment group: {expected_clicks_experiment}\")\n",
    "print(f\"Actual clicks in experiment group: {actual_clicks_experiment}\")\n",
    "print(f\"Standard deviation of clicks: {std_dev_experiment}\")\n",
    "print(f\"Z-score: {z_score}\")"
   ]
  },
  {
   "cell_type": "markdown",
   "metadata": {},
   "source": [
    "### Step 3: \n",
    "Finally, calculate a p-value using the normal distribution based on this z-score."
   ]
  },
  {
   "cell_type": "code",
   "execution_count": null,
   "metadata": {},
   "outputs": [],
   "source": [
    "#Your code here\n",
    "from scipy import stats\n",
    "\n",
    "# Step 6: Calculate the p-value using the normal distribution\n",
    "p_value = 2 * (1 - stats.norm.cdf(abs(z_score)))\n",
    "\n",
    "print(f\"P-value: {p_value}\")\n"
   ]
  },
  {
   "cell_type": "markdown",
   "metadata": {},
   "source": [
    "### Analysis:\n",
    "\n",
    "Does this result roughly match that of the previous statistical test?\n",
    "\n",
    "> Comment: **Your analysis here**\n",
    "\n",
    "#### Answer:\n",
    "Yes, the p-value of 0.0066 from this test is very close to the previously calculated p-value of 0.0088. Both p-values are below the common significance level threshold of 0.05, meaning that in both cases we can reject the null hypothesis.\n",
    "\n",
    "#### Analysis:\n",
    "This p-value indicates that the difference in click-through rates between the experiment group (new homepage) and the control group (old homepage) is statistically significant. In other words, there is strong evidence to suggest that the experimental homepage performed better (or at least differently) than the control.\n",
    "\n",
    "Since the p-value is very small, the likelihood of this difference being due to random chance is low, and it suggests that the change in the homepage has had a measurable effect on user behavior."
   ]
  },
  {
   "cell_type": "markdown",
   "metadata": {},
   "source": [
    "## Summary\n",
    "\n",
    "In this lab, you continued to get more practice designing and conducting AB tests. This required additional work preprocessing and formulating the initial problem in a suitable manner. Additionally, you also saw how to verify results, strengthening your knowledge of binomial variables, and reviewing initial statistical concepts of the central limit theorem, standard deviation, z-scores, and their accompanying p-values."
   ]
  }
 ],
 "metadata": {
  "kernelspec": {
   "display_name": "Python 3",
   "language": "python",
   "name": "python3"
  },
  "language_info": {
   "codemirror_mode": {
    "name": "ipython",
    "version": 3
   },
   "file_extension": ".py",
   "mimetype": "text/x-python",
   "name": "python",
   "nbconvert_exporter": "python",
   "pygments_lexer": "ipython3",
   "version": "3.8.5"
  }
 },
 "nbformat": 4,
 "nbformat_minor": 2
}
